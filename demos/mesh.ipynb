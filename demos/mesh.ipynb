{
 "cells": [
  {
   "cell_type": "code",
   "execution_count": 1,
   "metadata": {},
   "outputs": [],
   "source": [
    "import numpy as np\n",
    "from matplotlib import pyplot as plt\n",
    "from icedyn1d.mesh import Mesh"
   ]
  },
  {
   "cell_type": "code",
   "execution_count": 10,
   "metadata": {},
   "outputs": [
    {
     "data": {
      "image/png": "[encoded data removed]",
      "text/plain": [
       "<Figure size 432x288 with 1 Axes>"
      ]
     },
     "metadata": {
      "needs_background": "light"
     },
     "output_type": "display_data"
    },
    {
     "name": "stdout",
     "output_type": "stream",
     "text": [
      "Weights (rows correspond to new elements, columns to old ones):\n",
      "[[1.         0.         0.         0.         0.         0.\n",
      "  0.         0.        ]\n",
      " [0.         1.         1.         0.         0.         0.\n",
      "  0.         0.        ]\n",
      " [0.         0.         0.         0.83333333 0.         0.\n",
      "  0.         0.        ]\n",
      " [0.         0.         0.         0.16666667 0.88888889 0.\n",
      "  0.         0.        ]\n",
      " [0.         0.         0.         0.         0.11111111 1.\n",
      "  0.         0.        ]\n",
      " [0.         0.         0.         0.         0.         0.\n",
      "  1.         1.        ]]\n",
      "\n",
      "Columns of weight matrix should sum to 1:\n",
      "[1. 1. 1. 1. 1. 1. 1. 1.]\n"
     ]
    }
   ],
   "source": [
    "def test_get_interp_weights_conservative():\n",
    "    xn = np.array([1,2,3,4,5,6,7])\n",
    "    xo = np.array([1,2,2.5,3,4.2,5.1,6,6.5,7])\n",
    "    xlim = [.75, 7.25]\n",
    "    plt.plot(xlim, [0, 0],'-k')\n",
    "    plt.plot(xo, 0*xo, 'or', label='old nodes')\n",
    "    plt.plot(xn, 0*xn, '.k', label='new nodes')\n",
    "    plt.xlim(xlim)\n",
    "    plt.legend()\n",
    "    plt.show()\n",
    "    \n",
    "    # calc weights\n",
    "    mesh = Mesh(xo)\n",
    "    w = mesh.get_interp_weights_conservative(xn)\n",
    "    print('Weights (rows correspond to new elements, columns to old ones):')\n",
    "    print(w)\n",
    "    print('\\nColumns of weight matrix should sum to 1:')\n",
    "    print(np.sum(w, axis=0))# columns should sum to 1\n",
    "        \n",
    "test_get_interp_weights_conservative()"
   ]
  },
  {
   "cell_type": "code",
   "execution_count": null,
   "metadata": {},
   "outputs": [],
   "source": []
  }
 ],
 "metadata": {
  "kernelspec": {
   "display_name": "Python 3",
   "language": "python",
   "name": "python3"
  },
  "language_info": {
   "codemirror_mode": {
    "name": "ipython",
    "version": 3
   },
   "file_extension": ".py",
   "mimetype": "text/x-python",
   "name": "python",
   "nbconvert_exporter": "python",
   "pygments_lexer": "ipython3",
   "version": "3.6.10"
  }
 },
 "nbformat": 4,
 "nbformat_minor": 2
}
