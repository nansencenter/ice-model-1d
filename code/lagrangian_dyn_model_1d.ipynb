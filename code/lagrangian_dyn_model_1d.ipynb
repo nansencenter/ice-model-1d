{
 "cells": [
  {
   "cell_type": "code",
   "execution_count": 11,
   "metadata": {},
   "outputs": [],
   "source": [
    "import numpy as np\n",
    "from matplotlib import pyplot as plt"
   ]
  },
  {
   "cell_type": "code",
   "execution_count": 48,
   "metadata": {},
   "outputs": [],
   "source": [
    "def vector_min(x, y):\n",
    "    return .5*(x+y -np.abs(x-y))\n",
    "\n",
    "def vector_max(x, y):\n",
    "    return .5*(x+y +np.abs(x-y))\n",
    "\n",
    "def get_interp_weights_1d(xo, xn):\n",
    "    ''''''\n",
    "    num_elements = len(xo) -1\n",
    "    w = np.zeros((num_elements, num_elements))\n",
    "    xln = xn[:-1] #new LH nodes\n",
    "    xrn = xn[1:]  #new RH nodes\n",
    "    for i in range(num_elements):\n",
    "        xlo, xro = xo[i], xo[i+1] #old LH, RH nodes\n",
    "        check = (xrn>xlo) * (xln<xro)\n",
    "        w[check,i] = (vector_min(xrn[check], xro)\n",
    "                      - vector_max(xln[check], xlo)\n",
    "                     )/(xro - xlo)\n",
    "    return w"
   ]
  },
  {
   "cell_type": "code",
   "execution_count": 47,
   "metadata": {},
   "outputs": [
    {
     "data": {
      "image/png": "[encoded data removed]",
      "text/plain": [
       "<Figure size 432x288 with 1 Axes>"
      ]
     },
     "metadata": {
      "needs_background": "light"
     },
     "output_type": "display_data"
    },
    {
     "name": "stdout",
     "output_type": "stream",
     "text": [
      "[[1.         0.         0.         0.         0.         0.        ]\n",
      " [0.         1.         1.         0.         0.         0.        ]\n",
      " [0.         0.         0.         0.83333333 0.         0.        ]\n",
      " [0.         0.         0.         0.16666667 0.88888889 0.        ]\n",
      " [0.         0.         0.         0.         0.11111111 0.47368421]\n",
      " [0.         0.         0.         0.         0.         0.52631579]]\n",
      "[1. 1. 1. 1. 1. 1.]\n",
      "[[1.         0.         0.         0.         0.         0.        ]\n",
      " [0.         1.         1.         0.         0.         0.        ]\n",
      " [0.         0.         0.         0.83333333 0.         0.        ]\n",
      " [0.         0.         0.         0.16666667 0.88888889 0.        ]\n",
      " [0.         0.         0.         0.         0.11111111 0.47368421]\n",
      " [0.         0.         0.         0.         0.         0.52631579]]\n",
      "[1. 1. 1. 1. 1. 1.]\n"
     ]
    }
   ],
   "source": [
    "def test_get_interp_weights_1d():\n",
    "    xn = np.array([1,2,3,4,5,6,7])\n",
    "    xo = np.array([1,2,2.5,3,4.2,5.1,7])\n",
    "    plt.plot(xo,0*xo,'or')\n",
    "    plt.plot(xn, 0*xn, '.k')\n",
    "    plt.show()\n",
    "    \n",
    "    # calc weights\n",
    "    w_calc = get_interp_weights_1d(xo, xn)\n",
    "\n",
    "    #true weights:\n",
    "    #rows are for new elements\n",
    "    #columns are weights for old elements\n",
    "    w_true = np.zeros((6,6))\n",
    "    w_true[0,0] = 1\n",
    "    w_true[1,1:3]=1\n",
    "    w_true[2,3]=1/1.2\n",
    "    w_true[3,3]=.2/1.2\n",
    "    w_true[3,4]=.8/.9\n",
    "    w_true[4,4]=.1/.9\n",
    "    w_true[4,5]=.9/1.9\n",
    "    w_true[5,5]=1/1.9\n",
    "    for w in [w_calc, w_true]:\n",
    "        print(w)\n",
    "        print(np.sum(w, axis=0))# columns should sum to 1\n",
    "        \n",
    "test_get_interp_weights_1d()"
   ]
  },
  {
   "cell_type": "code",
   "execution_count": null,
   "metadata": {},
   "outputs": [],
   "source": []
  }
 ],
 "metadata": {
  "kernelspec": {
   "display_name": "Python 3",
   "language": "python",
   "name": "python3"
  },
  "language_info": {
   "codemirror_mode": {
    "name": "ipython",
    "version": 3
   },
   "file_extension": ".py",
   "mimetype": "text/x-python",
   "name": "python",
   "nbconvert_exporter": "python",
   "pygments_lexer": "ipython3",
   "version": "3.6.9"
  }
 },
 "nbformat": 4,
 "nbformat_minor": 2
}
